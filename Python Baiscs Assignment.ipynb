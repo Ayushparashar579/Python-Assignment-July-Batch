{
 "cells": [
  {
   "cell_type": "markdown",
   "id": "9d503ef0-661e-4398-b4b4-21b9048e04cc",
   "metadata": {},
   "source": [
    "# Question 1- Explain key features of python that make it popular choice of programming ?\n",
    "\n",
    "###\n",
    "Answer 1- \n",
    "-**Simple Syntax**: Enhances readability and ease of learning.\n",
    "- **Multi-Purpose**: Ideal for a range of applications, from web to data analysis.\n",
    "- **Rich Libraries**: Provides a vast array of pre-built modules.\n",
    "- **No Compilation**: Executes directly, streamlining the test-and-run cycle.\n",
    "- **Cross-Platform**: Compatible with multiple operating systems.\n",
    "- **Free and Open**: No cost, with open-source community contributions.\n",
    "- **Runtime Typing**: Offers flexibility with variable types.\n",
    "- **Integrable**: Allows inclusion of other language components.\n",
    "- **Class-Based OOP**: Facilitates modular and reusable code.\n",
    "- **Extensive Support**: Benefits from a broad and active user base."
   ]
  },
  {
   "cell_type": "markdown",
   "id": "843dd3a4-9782-45ba-a076-43680e749aeb",
   "metadata": {},
   "source": [
    "# Question 2- Describe the role of predefined keyword and provide example of how they are used in python.\n",
    "\n",
    "Answer 2- Predefined keywords in Python are reserved words that have specific, built-in meanings and functions in the language.They are the fundamental building blocks of Python's syntax, used to define the structure and behavior of the program."
   ]
  },
  {
   "cell_type": "code",
   "execution_count": 24,
   "id": "c3bccd56-b5cc-42ec-b52e-31096381c264",
   "metadata": {},
   "outputs": [
    {
     "name": "stdout",
     "output_type": "stream",
     "text": [
      "\n",
      "Here is a list of the Python keywords.  Enter any keyword to get more help.\n",
      "\n",
      "False               class               from                or\n",
      "None                continue            global              pass\n",
      "True                def                 if                  raise\n",
      "and                 del                 import              return\n",
      "as                  elif                in                  try\n",
      "assert              else                is                  while\n",
      "async               except              lambda              with\n",
      "await               finally             nonlocal            yield\n",
      "break               for                 not                 \n",
      "\n"
     ]
    }
   ],
   "source": [
    "help('keywords')"
   ]
  },
  {
   "cell_type": "code",
   "execution_count": 27,
   "id": "108cc174-fdc7-474c-aee4-02e07fff1705",
   "metadata": {},
   "outputs": [
    {
     "name": "stdout",
     "output_type": "stream",
     "text": [
      "[1, 2, 'parashar', 'ayush']\n",
      "[1, 2, 'parashar', 'ayush']\n",
      "[1, 2, 'parashar', 'ayush']\n",
      "[1, 2, 'parashar', 'ayush']\n"
     ]
    }
   ],
   "source": [
    "a=[1,2,\"parashar\",\"ayush\"]\n",
    "for q in a:\n",
    "    print(a)"
   ]
  },
  {
   "cell_type": "markdown",
   "id": "6cfb61c9-f0a0-4619-b95b-4cb92d814028",
   "metadata": {},
   "source": [
    "# Question 3- Compare and contrast mutable and immutable objects in Python with examples.\n",
    "\n",
    "Answer 3- ***Mutable object*** in Python is an object whose state or content can be changed after it is created, such as lists, dictionaries, sets, and user-defined classes."
   ]
  },
  {
   "cell_type": "code",
   "execution_count": 29,
   "id": "156586aa-d835-4206-b848-6e4dba967617",
   "metadata": {},
   "outputs": [],
   "source": [
    "my_dict = {'a': 1, 'b': 2}\n",
    "my_dict['a'] = 10  # Changes the value associated with key 'a' to 10"
   ]
  },
  {
   "cell_type": "markdown",
   "id": "957c876f-7421-4aa1-b369-0479fd3bcdf8",
   "metadata": {},
   "source": [
    "**Immutable Objects** Cannot change their state or contents once created.Examples int, float, str, tuple, frozenset."
   ]
  },
  {
   "cell_type": "code",
   "execution_count": 32,
   "id": "f9cecf38-9adb-435e-8479-7dab833ab130",
   "metadata": {},
   "outputs": [],
   "source": [
    "my_str = \"hello\"\n",
    "# You can't change a character within the string; you can only create a new string."
   ]
  },
  {
   "cell_type": "markdown",
   "id": "72d72a2e-b624-4ebb-a0f2-ac84aaa798d8",
   "metadata": {
    "tags": []
   },
   "source": [
    "# Question 4- Discuss the different types of operators in Python and provide examples of how they are used."
   ]
  },
  {
   "cell_type": "markdown",
   "id": "1a2cf0d8-1543-4e83-9ef4-06ab5a711957",
   "metadata": {},
   "source": [
    "Answer 4- In Python, operators are special symbols that perform operations on one or more operands. Operators are the building blocks of Python expressions, and they can be categorized into several types:"
   ]
  },
  {
   "cell_type": "code",
   "execution_count": 41,
   "id": "dbccc8b2-0de1-4c91-965f-4773069e0f94",
   "metadata": {},
   "outputs": [
    {
     "data": {
      "text/plain": [
       "6"
      ]
     },
     "execution_count": 41,
     "metadata": {},
     "output_type": "execute_result"
    }
   ],
   "source": [
    "#  1.Arithmatic Operators:- \n",
    "#  Example:- +, -, *, /, %, **.\n",
    "a=2\n",
    "b=3\n",
    "a*b"
   ]
  },
  {
   "cell_type": "code",
   "execution_count": 46,
   "id": "c8c21e5a-e508-47af-af15-b067453f55b9",
   "metadata": {},
   "outputs": [
    {
     "data": {
      "text/plain": [
       "True"
      ]
     },
     "execution_count": 46,
     "metadata": {},
     "output_type": "execute_result"
    }
   ],
   "source": [
    "# 2. Comparison Operators:\n",
    "# Example:- <, >, >=, <=, ==, !=.\n",
    "a=22\n",
    "b=44\n",
    "a<b"
   ]
  },
  {
   "cell_type": "code",
   "execution_count": 55,
   "id": "14f3ab34-fb94-436e-9068-9b2086423e4c",
   "metadata": {},
   "outputs": [
    {
     "data": {
      "text/plain": [
       "True"
      ]
     },
     "execution_count": 55,
     "metadata": {},
     "output_type": "execute_result"
    }
   ],
   "source": [
    "# 3. Logical Operators:\n",
    "# Example:\n",
    "# Logical and\n",
    "# Logical or\n",
    "# Logical not\n",
    "a=5\n",
    "b=10\n",
    "(a<7)or(b=15)"
   ]
  },
  {
   "cell_type": "code",
   "execution_count": 57,
   "id": "6d978310-c215-4ab1-ab53-30d4787b4d24",
   "metadata": {},
   "outputs": [
    {
     "data": {
      "text/plain": [
       "58"
      ]
     },
     "execution_count": 57,
     "metadata": {},
     "output_type": "execute_result"
    }
   ],
   "source": [
    "# 4. Bitwise Operators:\n",
    "# Example:\n",
    "# Bitwise AND(&)\n",
    "# Bitwise OR(|)\n",
    "# Bitwise XOR(^)\n",
    "# Bitwise left shift(<<)\n",
    "# Bitwise right shift(>>\n",
    "a=40\n",
    "b=50\n",
    "a|b"
   ]
  },
  {
   "cell_type": "markdown",
   "id": "52e40115-9001-4f73-8e2a-090902807a70",
   "metadata": {},
   "source": [
    "# Question 5- Explain the concept of type casting in Python with examples.\n"
   ]
  },
  {
   "cell_type": "markdown",
   "id": "6a08acc4-3df3-42fd-9fd5-51c90730e971",
   "metadata": {},
   "source": [
    "#Answer 5- Type casting in Python refers to the process of converting a variable from one data type to another. Python provides built-in functions that allow you to explicitly convert types, which can be useful when you need to perform operations that require a certain type of input.\n",
    "\n",
    "The most common type casting functions in Python are:\n",
    "\n",
    "- `int()`: Converts a value to an integer.\n",
    "- `float()`: Converts a value to a floating-point number.\n",
    "- `str()`: Converts a value to a string.\n",
    "- `bool()`: Converts a value to a boolean (True or False)."
   ]
  },
  {
   "cell_type": "code",
   "execution_count": null,
   "id": "ea224854-f596-47d3-9f25-99bdec52e4b0",
   "metadata": {},
   "outputs": [],
   "source": [
    "Here are some examples of type casting in Python:\n",
    "\n",
    "**Integer Casting**:\n",
    "```python\n",
    "# Converting a float to an integer\n",
    "float_number = 3.14\n",
    "integer_number = int(float_number)  # integer_number will be 3\n",
    "\n",
    "# Converting a string to an integer\n",
    "string_number = \"123\"\n",
    "integer_number = int(string_number)  # integer_number will be 123\n",
    "```\n",
    "\n",
    "**Float Casting**:\n",
    "```python\n",
    "# Converting an integer to a float\n",
    "integer_number = 10\n",
    "float_number = float(integer_number)  # float_number will be 10.0\n",
    "\n",
    "# Converting a string to a float\n",
    "string_number = \"3.14\"\n",
    "float_number = float(string_number)  # float_number will be 3.14\n",
    "```\n",
    "\n",
    "**String Casting**:\n",
    "```python\n",
    "# Converting an integer to a string\n",
    "integer_number = 123\n",
    "string_number = str(integer_number)  # string_number will be \"123\"\n",
    "\n",
    "# Converting a float to a string\n",
    "float_number = 3.14\n",
    "string_number = str(float_number)  # string_number will be \"3.14\"\n",
    "```\n",
    "\n",
    "**Boolean Casting**:\n",
    "```python\n",
    "# Non-zero numbers are converted to True\n",
    "print(bool(1))  # Outputs: True\n",
    "print(bool(-42))  # Outputs: True\n",
    "\n",
    "# Zero is converted to False\n",
    "print(bool(0))  # Outputs: False\n",
    "\n",
    "# Non-empty strings are converted to True\n",
    "print(bool(\"Hello\"))  # Outputs: True\n",
    "\n",
    "# Empty strings are converted to False\n",
    "print(bool(\"\"))  # Outputs: False\n",
    "```\n",
    "\n",
    "#It's important to note that type casting can fail if you try to convert a value that is not compatible with the target type. For example, trying to convert the string \"abc\" to an integer will result in a `ValueError`."
   ]
  },
  {
   "cell_type": "markdown",
   "id": "a71b6574-14b0-4b21-8be1-60cef9e3e1a9",
   "metadata": {},
   "source": [
    "# Question 6- How do conditional statements work in Python? Illustrate with examples."
   ]
  },
  {
   "cell_type": "markdown",
   "id": "58c2ef34-1abe-40f1-9564-8361a91ace35",
   "metadata": {},
   "source": [
    "Answer 6- In Python, you can control which segments of code are executed depending on specific conditions by using conditional statements. The primary conditional statements are `if`, `elif` (which stands for \"else if\"), and `else`.\n",
    "\n",
    "The functionality of these statements is as follows:\n",
    "\n",
    "- The `if` statement evaluates a condition; if that condition evaluates to `True`, the code block following the `if` statement is run.\n",
    "- The `elif` statement comes into play when the preceding `if` statement's condition is `False`. It then evaluates a different condition and, if `True`, executes its code block.\n",
    "- The `else` statement is the final option in a chain of `if` and `elif` statements. It runs a block of code only if none of the previous conditions have been met (`True`)."
   ]
  },
  {
   "cell_type": "code",
   "execution_count": 63,
   "id": "9396179e-0239-4d5e-9b47-a25cddb8c473",
   "metadata": {},
   "outputs": [
    {
     "name": "stdout",
     "output_type": "stream",
     "text": [
      "You are an adult.\n"
     ]
    }
   ],
   "source": [
    "# if Statement\n",
    "age = 18\n",
    "if age >= 18:\n",
    "    print(\"You are an adult.\")"
   ]
  },
  {
   "cell_type": "code",
   "execution_count": 65,
   "id": "b727cd7b-3e5b-45b3-a8d0-ead8bd91feb3",
   "metadata": {},
   "outputs": [
    {
     "name": "stdout",
     "output_type": "stream",
     "text": [
      "You are not an adult.\n"
     ]
    }
   ],
   "source": [
    "# if-else Statement\n",
    "age = 16\n",
    "if age >= 18:\n",
    "    print(\"You are an adult.\")\n",
    "else:\n",
    "    print(\"You are not an adult.\")"
   ]
  },
  {
   "cell_type": "code",
   "execution_count": 66,
   "id": "c3831c87-81e1-40ef-8a2e-23a7d3567c14",
   "metadata": {},
   "outputs": [
    {
     "name": "stdout",
     "output_type": "stream",
     "text": [
      "Grade: C\n"
     ]
    }
   ],
   "source": [
    "# If-Elif-Else Statement\n",
    "score = 75\n",
    "if score >= 90:\n",
    "    print(\"Grade: A\")\n",
    "elif score >= 80:\n",
    "    print(\"Grade: B\")\n",
    "elif score >= 70:\n",
    "    print(\"Grade: C\")\n",
    "else:\n",
    "    print(\"Grade: F\")"
   ]
  },
  {
   "cell_type": "markdown",
   "id": "9ec8d517-43fd-421b-993b-973d4ab52b5a",
   "metadata": {},
   "source": [
    "# Question 7- Describe the different types of loops in Python and their use cases with examples."
   ]
  },
  {
   "cell_type": "markdown",
   "id": "9705361b-199c-4dd2-a33f-3e5452e531cf",
   "metadata": {},
   "source": [
    "Answer 7- In Python, loops are used to repeat a block of code multiple times. There are two main types of loops: the 'for' loop and the 'while' loop."
   ]
  },
  {
   "cell_type": "code",
   "execution_count": null,
   "id": "85e214d4-b855-4020-9a86-94199fcb0870",
   "metadata": {},
   "outputs": [],
   "source": [
    "#1. For Loop: The for loop is used to iterate over a sequence \n",
    "(like a list, tuple, dictionary, set, or string) or other iterable objects. \n",
    "With each iteration, the loop variable takes on the value of the next element in the sequence.\n",
    "Use case example: You have a list of names and you want to print each name.\n",
    "\n",
    "names = ['Ayush', 'Shreya', 'Puppy']\n",
    "for name in names:\n",
    "print(name)"
   ]
  },
  {
   "cell_type": "code",
   "execution_count": null,
   "id": "5d2543cc-ac6c-4179-9673-1ddaab69bf42",
   "metadata": {},
   "outputs": [],
   "source": [
    "#2. While Loop: The while loop executes a block of code as long as a given condition is True. \n",
    "It's used when you want to repeat an action but you don't know in advance how many times you'll need to do it.\n",
    "Use case example: You want to keep prompting the user for input until they type \"quit\".\n",
    "\n",
    "user_input = \"\"\n",
    "while user_input != \"quit\":\n",
    "    user_input = input(\"Enter something (or 'quit' to exit): \")\n",
    "    print(\"You entered:\", user_input)"
   ]
  }
 ],
 "metadata": {
  "kernelspec": {
   "display_name": "Python 3 (ipykernel)",
   "language": "python",
   "name": "python3"
  },
  "language_info": {
   "codemirror_mode": {
    "name": "ipython",
    "version": 3
   },
   "file_extension": ".py",
   "mimetype": "text/x-python",
   "name": "python",
   "nbconvert_exporter": "python",
   "pygments_lexer": "ipython3",
   "version": "3.10.8"
  }
 },
 "nbformat": 4,
 "nbformat_minor": 5
}
