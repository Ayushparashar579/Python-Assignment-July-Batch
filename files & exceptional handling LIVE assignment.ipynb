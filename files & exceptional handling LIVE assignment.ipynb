{
 "cells": [
  {
   "cell_type": "markdown",
   "id": "e691ba7d-bbf3-4a6f-9a88-697849e861cc",
   "metadata": {},
   "source": [
    "Question 4- Write a Python program using multithreading where one thread adds numbers to a list, and another\n",
    "thread removes numbers from the list. Implement a mechanism to avoid race conditions using\n",
    "threading.Lock"
   ]
  },
  {
   "cell_type": "code",
   "execution_count": 3,
   "id": "ac903ea4-0319-4ec9-95d6-7b7f3fb3b5d2",
   "metadata": {},
   "outputs": [
    {
     "name": "stdout",
     "output_type": "stream",
     "text": [
      "Number 31 added. List: [31]\n",
      "Number 31 removed. List: []\n",
      "List is empty, nothing to remove.\n",
      "Number 12 added. List: [12]\n",
      "Number 12 removed. List: []\n",
      "List is empty, nothing to remove.\n",
      "Number 60 added. List: [60]\n",
      "Number 60 removed. List: []\n",
      "Number 35 added. List: [35]\n",
      "Number 35 removed. List: []\n",
      "Number 46 added. List: [46]\n",
      "Number 13 added. List: [46, 13]\n",
      "Number 13 removed. List: [46]\n",
      "Number 12 added. List: [46, 12]\n",
      "Number 12 removed. List: [46]\n",
      "Number 76 added. List: [46, 76]\n",
      "Number 76 removed. List: [46]\n",
      "Number 7 added. List: [46, 7]\n",
      "Number 7 removed. List: [46]\n",
      "Number 14 added. List: [46, 14]\n",
      "Final list: [46, 14]\n"
     ]
    }
   ],
   "source": [
    "#To implement a Python program that uses multithreading to add and remove numbers from a list while avoiding race conditions, we can use threading.Lock. A lock is a synchronization primitive that can be used to ensure that only one thread can access a particular section of code at a time.\n",
    "\n",
    "#Here's an example program that demonstrates this:\n",
    "import threading\n",
    "import time\n",
    "import random\n",
    "\n",
    "# The shared resource\n",
    "number_list = []\n",
    "# Create a lock\n",
    "list_lock = threading.Lock()\n",
    "\n",
    "def add_numbers():\n",
    "    for i in range(10):\n",
    "        time.sleep(random.uniform(0.1, 0.5))  # Simulate work\n",
    "        with list_lock:  # Acquire the lock before modifying the list\n",
    "            number = random.randint(1, 100)\n",
    "            number_list.append(number)\n",
    "            print(f'Number {number} added. List: {number_list}')\n",
    "            \n",
    "def remove_numbers():\n",
    "    for i in range(10):\n",
    "        time.sleep(random.uniform(0.1, 0.5))  # Simulate work\n",
    "        with list_lock:  # Acquire the lock before modifying the list\n",
    "            if number_list:\n",
    "                number = number_list.pop()\n",
    "                print(f'Number {number} removed. List: {number_list}')\n",
    "            else:\n",
    "                print('List is empty, nothing to remove.')\n",
    "\n",
    "# Create threads\n",
    "add_thread = threading.Thread(target=add_numbers)\n",
    "remove_thread = threading.Thread(target=remove_numbers)\n",
    "\n",
    "# Start threads\n",
    "add_thread.start()\n",
    "remove_thread.start()\n",
    "\n",
    "# Wait for threads to complete\n",
    "add_thread.join()\n",
    "remove_thread.join()\n",
    "\n",
    "print('Final list:', number_list)\n",
    "\n",
    "#In this program, we define two functions: add_numbers and remove_numbers, which will be run by separate threads. Both functions use a with statement to acquire the lock before they modify the shared list number_list. This ensures that only one thread can add or remove numbers at any given time.\n",
    "\n",
    "#The time.sleep(random.uniform(0.1, 0.5)) lines simulate some workload by making the thread sleep for a random short period of time. This helps to create a scenario where race conditions could occur if the lock was not used.\n",
    "\n",
    "#Once the threads have been started with add_thread.start() and remove_thread.start(), the add_thread.join() and remove_thread.join() calls are used to wait for both threads to finish executing before printing the final list."
   ]
  },
  {
   "cell_type": "markdown",
   "id": "d9d52bb9-9c60-4509-be08-07c48d40bcb0",
   "metadata": {},
   "source": [
    "Question 7- Create a program that uses a thread pool to calculate the factorial of numbers from 1 to 10 concurrently.\n",
    "Use concurrent.futures.ThreadPoolExecutor to manage the threads."
   ]
  },
  {
   "cell_type": "code",
   "execution_count": 7,
   "id": "7c757715-b094-400c-9b61-ff5c825adf86",
   "metadata": {},
   "outputs": [
    {
     "name": "stdout",
     "output_type": "stream",
     "text": [
      "Factorial of 4 is 24\n",
      "Factorial of 2 is 2\n",
      "Factorial of 3 is 6\n",
      "Factorial of 9 is 362880\n",
      "Factorial of 1 is 1\n",
      "Factorial of 5 is 120\n",
      "Factorial of 7 is 5040\n",
      "Factorial of 8 is 40320\n",
      "Factorial of 10 is 3628800\n",
      "Factorial of 6 is 720\n"
     ]
    }
   ],
   "source": [
    "#Here's a Python program that uses concurrent.futures.ThreadPoolExecutor to calculate the factorials of numbers from 1 to 10 concurrently:\n",
    "\n",
    "import concurrent.futures\n",
    "\n",
    "# Function to calculate the factorial of a number\n",
    "def factorial(number):\n",
    "    if number == 0 or number == 1:\n",
    "        return 1\n",
    "    else:\n",
    "        return number * factorial(number - 1)\n",
    "\n",
    "# Function to compute factorials using a thread pool\n",
    "def compute_factorials(numbers):\n",
    "    # Create a thread pool executor\n",
    "    with concurrent.futures.ThreadPoolExecutor(max_workers=10) as executor:\n",
    "        # Submit tasks to the executor\n",
    "        future_to_number = {executor.submit(factorial, number): number for number in numbers}\n",
    "        \n",
    "        # Collect and print the results as they are completed\n",
    "        for future in concurrent.futures.as_completed(future_to_number):\n",
    "            number = future_to_number[future]\n",
    "            try:\n",
    "                result = future.result()\n",
    "            except Exception as exc:\n",
    "                print(f\"{number} generated an exception: {exc}\")\n",
    "            else:\n",
    "                print(f\"Factorial of {number} is {result}\")\n",
    "\n",
    "# Calculate the factorial of numbers from 1 to 10\n",
    "if __name__ == \"__main__\":\n",
    "    numbers = range(1, 11)\n",
    "    compute_factorials(numbers)"
   ]
  },
  {
   "cell_type": "markdown",
   "id": "3ea90ffb-df3c-4925-8696-d508cdd90fbb",
   "metadata": {},
   "source": [
    "Question 8- Create a Python program that uses multiprocessing.Pool to compute the square of numbers from 1 to 10 in\n",
    "parallel. Measure the time taken to perform this computation using a pool of different sizes (e.g., 2, 4, 8\n",
    "processes)."
   ]
  },
  {
   "cell_type": "code",
   "execution_count": 6,
   "id": "558ffd68-e97d-4632-8e18-1306e6052122",
   "metadata": {},
   "outputs": [
    {
     "name": "stdout",
     "output_type": "stream",
     "text": [
      "Running with a pool of 2 processes.\n",
      "Results: [1, 4, 9, 16, 25, 36, 49, 64, 81, 100]\n",
      "Time taken with pool size 2: 0.0292 seconds\n",
      "\n",
      "Running with a pool of 4 processes.\n",
      "Results: [1, 4, 9, 16, 25, 36, 49, 64, 81, 100]\n",
      "Time taken with pool size 4: 0.0421 seconds\n",
      "\n",
      "Running with a pool of 8 processes.\n",
      "Results: [1, 4, 9, 16, 25, 36, 49, 64, 81, 100]\n",
      "Time taken with pool size 8: 0.0654 seconds\n",
      "\n"
     ]
    }
   ],
   "source": [
    "#Here's a Python program that uses multiprocessing.Pool to compute the squares of numbers from 1 to 10 in parallel. The program measures the time taken to perform the computations with different pool sizes (2, 4, 8 processes).\n",
    "\n",
    "import multiprocessing\n",
    "import time\n",
    "\n",
    "# Function to calculate the square of a number\n",
    "def square(n):\n",
    "    return n * n\n",
    "\n",
    "# Main function to test multiprocessing with different pool sizes\n",
    "def test_multiprocessing(pool_size):\n",
    "    print(f\"Running with a pool of {pool_size} processes.\")\n",
    "    start_time = time.time()\n",
    "    \n",
    "    # Create a pool of workers\n",
    "    with multiprocessing.Pool(processes=pool_size) as pool:\n",
    "        # Map the square function to the inputs\n",
    "        results = pool.map(square, range(1, 11))\n",
    "    \n",
    "    # Calculate the total time taken\n",
    "    end_time = time.time()\n",
    "    time_taken = end_time - start_time\n",
    "    \n",
    "    print(f\"Results: {results}\")\n",
    "    print(f\"Time taken with pool size {pool_size}: {time_taken:.4f} seconds\\n\")\n",
    "\n",
    "if __name__ == \"__main__\":\n",
    "    pool_sizes = [2, 4, 8]\n",
    "    \n",
    "    for size in pool_sizes:\n",
    "        test_multiprocessing(size)"
   ]
  },
  {
   "cell_type": "code",
   "execution_count": null,
   "id": "e5a090ed-634b-42f3-848c-2939390476b5",
   "metadata": {},
   "outputs": [],
   "source": []
  }
 ],
 "metadata": {
  "kernelspec": {
   "display_name": "Python 3 (ipykernel)",
   "language": "python",
   "name": "python3"
  },
  "language_info": {
   "codemirror_mode": {
    "name": "ipython",
    "version": 3
   },
   "file_extension": ".py",
   "mimetype": "text/x-python",
   "name": "python",
   "nbconvert_exporter": "python",
   "pygments_lexer": "ipython3",
   "version": "3.10.8"
  }
 },
 "nbformat": 4,
 "nbformat_minor": 5
}
